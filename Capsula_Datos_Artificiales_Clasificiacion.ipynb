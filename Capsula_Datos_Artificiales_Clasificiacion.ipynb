{
  "nbformat": 4,
  "nbformat_minor": 0,
  "metadata": {
    "colab": {
      "provenance": [],
      "include_colab_link": true
    },
    "kernelspec": {
      "name": "python3",
      "display_name": "Python 3"
    },
    "language_info": {
      "name": "python"
    }
  },
  "cells": [
    {
      "cell_type": "markdown",
      "metadata": {
        "id": "view-in-github",
        "colab_type": "text"
      },
      "source": [
        "<a href=\"https://colab.research.google.com/github/Lizeth058/BIT_BootcampIA/blob/main/Capsula_Datos_Artificiales_Clasificiacion.ipynb\" target=\"_parent\"><img src=\"https://colab.research.google.com/assets/colab-badge.svg\" alt=\"Open In Colab\"/></a>"
      ]
    },
    {
      "cell_type": "code",
      "execution_count": null,
      "metadata": {
        "id": "WjpNoOsyKOfe"
      },
      "outputs": [],
      "source": [
        "import numpy as np\n",
        "import pandas as pd\n",
        "import matplotlib.pyplot as plt\n",
        "from sklearn.datasets import make_classification"
      ]
    },
    {
      "cell_type": "code",
      "source": [
        "X1, Y1 = make_classification(\n",
        "    n_samples = 200, n_features=2, n_redundant=0, n_informative=1, n_clusters_per_class=1\n",
        ") # Se genera un conjunto de datos para clasificación\n",
        "plt.scatter(X1[:, 0], X1[:, 1], marker=\"o\", c=Y1, s=25, edgecolor=\"k\") # Hacemos el gráfico de dispersión"
      ],
      "metadata": {
        "id": "5rVU8y01KW6o"
      },
      "execution_count": null,
      "outputs": []
    },
    {
      "cell_type": "code",
      "source": [
        "# Guardar los datos generados en un archivo CSV\n",
        "data_generated = pd.DataFrame(X1, columns=['Feature 1', 'Feature 2'])\n",
        "data_generated['Label'] = Y1\n",
        "output_csv_path = 'generated_classification_data.csv'\n",
        "data_generated.to_csv(output_csv_path, index=False)\n",
        "\n",
        "output_csv_path"
      ],
      "metadata": {
        "id": "Qc8WtN_lKYc_"
      },
      "execution_count": null,
      "outputs": []
    }
  ]
}